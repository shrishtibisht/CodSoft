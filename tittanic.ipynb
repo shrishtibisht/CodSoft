{
 "cells": [
  {
   "cell_type": "code",
   "execution_count": null,
   "id": "1a45733f",
   "metadata": {},
   "outputs": [],
   "source": [
    "#importing all necessary libraries\n",
    "import numpy as np\n",
    "import pandas as pd\n",
    "import matplotlib.pyplot as plt\n",
    "import seaborn as sns\n",
    "from sklearn.model_selection import train_test_split\n",
    "from sklearn.linear_model import LogisticRegression\n",
    "from sklearn.metrics import accuracy_score\n"
   ]
  },
  {
   "cell_type": "code",
   "execution_count": null,
   "id": "9d614636",
   "metadata": {},
   "outputs": [],
   "source": [
    "#upload the dataset\n",
    "titanic_dataset=pd.read_csv(\"Titanic-Dataset.csv\");\n",
    "titanic_dataset.head(5)"
   ]
  },
  {
   "cell_type": "code",
   "execution_count": null,
   "id": "826d2998",
   "metadata": {},
   "outputs": [],
   "source": [
    "#number of rows and columns in the dataset\n",
    "titanic_dataset.shape"
   ]
  },
  {
   "cell_type": "code",
   "execution_count": null,
   "id": "d4e2cff4",
   "metadata": {},
   "outputs": [],
   "source": [
    "#gathering the information about the dataset about how many values are null\n",
    "titanic_dataset.info()"
   ]
  },
  {
   "cell_type": "code",
   "execution_count": null,
   "id": "8a1dede9",
   "metadata": {},
   "outputs": [],
   "source": [
    "#number of null values in each column\n",
    "titanic_dataset.isnull().sum()"
   ]
  },
  {
   "cell_type": "code",
   "execution_count": null,
   "id": "51a5cafa",
   "metadata": {},
   "outputs": [],
   "source": [
    "#drooping off the column Cabin as it has most null values and is not much useful for prediction\n",
    "titanic_dataset=titanic_dataset.drop(columns='Cabin',axis=1)"
   ]
  },
  {
   "cell_type": "code",
   "execution_count": null,
   "id": "aa508a84",
   "metadata": {},
   "outputs": [],
   "source": [
    "#filling the null values for column \"Age\" by calculating the mean value of the column\n",
    "titanic_dataset['Age']=titanic_dataset['Age'].fillna(titanic_dataset['Age'].mean())\n"
   ]
  },
  {
   "cell_type": "code",
   "execution_count": null,
   "id": "09e6488e",
   "metadata": {},
   "outputs": [],
   "source": [
    "#finding and filling the null values for column \"Embarked\" by calculating the mode value of the column\n",
    "print(titanic_dataset['Embarked'].mode()[0])\n",
    "titanic_dataset['Embarked']=titanic_dataset['Embarked'].fillna(titanic_dataset['Embarked'].mode()[0])"
   ]
  },
  {
   "cell_type": "code",
   "execution_count": null,
   "id": "b89189ed",
   "metadata": {},
   "outputs": [],
   "source": [
    "#performing the basic statistical calculation on the dataset\n",
    "titanic_dataset.describe()"
   ]
  },
  {
   "cell_type": "code",
   "execution_count": null,
   "id": "6864d2a1",
   "metadata": {},
   "outputs": [],
   "source": [
    "#counting how many people survived by 0 as Not Survived and 1 as Survived\n",
    "titanic_dataset['Survived'].value_counts()"
   ]
  },
  {
   "cell_type": "code",
   "execution_count": null,
   "id": "aea5e644",
   "metadata": {},
   "outputs": [],
   "source": [
    "#plotting the graph in reference to some statistical calculations\n",
    "sns.countplot(x='Survived',data=titanic_dataset)\n",
    "plt.show()"
   ]
  },
  {
   "cell_type": "code",
   "execution_count": null,
   "id": "34417a05",
   "metadata": {},
   "outputs": [],
   "source": [
    "#plotting the data in refrence to sex of people on ship\n",
    "sns.countplot(x='Sex',hue='Sex',data=titanic_dataset,palette=['blue','orange'],legend=True)\n",
    "plt.show()"
   ]
  },
  {
   "cell_type": "code",
   "execution_count": null,
   "id": "430ce4fa",
   "metadata": {},
   "outputs": [],
   "source": [
    "#plotting the data on basis of their sex and how much of them survived\n",
    "sns.countplot(x='Sex', hue='Survived',data=titanic_dataset)\n",
    "plt.show()"
   ]
  },
  {
   "cell_type": "code",
   "execution_count": null,
   "id": "7eec6aa3",
   "metadata": {},
   "outputs": [],
   "source": [
    "#plottinh the data on basis of Pclass of the passengers (their ticket class)\n",
    "sns.countplot(x='Pclass',hue='Pclass',data=titanic_dataset, palette=['orange','green','red'])\n",
    "plt.show()"
   ]
  },
  {
   "cell_type": "code",
   "execution_count": null,
   "id": "5cb2d6f7",
   "metadata": {},
   "outputs": [],
   "source": [
    "#plotting the data to know how many of each Pclass , how many of them survived\n",
    "sns.countplot(x='Pclass',hue='Survived',data=titanic_dataset, palette=['orange','green'])\n",
    "plt.show()"
   ]
  },
  {
   "cell_type": "code",
   "execution_count": null,
   "id": "1c20dac5",
   "metadata": {},
   "outputs": [],
   "source": [
    "#converting to numerical data for better analysis by encoding\n",
    "titanic_dataset['Sex'] = titanic_dataset['Sex'].replace({'male': 0, 'female': 1})\n",
    "titanic_dataset['Embarked'] = titanic_dataset['Embarked'].replace({'C': 0, 'Q': 1, 'S': 2})\n"
   ]
  },
  {
   "cell_type": "code",
   "execution_count": null,
   "id": "3280ef14",
   "metadata": {},
   "outputs": [],
   "source": [
    "#output after conversion\n",
    "titanic_dataset.head()\n"
   ]
  },
  {
   "cell_type": "code",
   "execution_count": null,
   "id": "6bcabd59",
   "metadata": {},
   "outputs": [],
   "source": [
    "#dropping the unncessary columns which will not be used for testing and training of the model ans saving the Column Survived separately\n",
    "x=titanic_dataset.drop(columns=['PassengerId','Name','Ticket','Survived'],axis=1)\n",
    "y=titanic_dataset['Survived']\n",
    "print(x)\n",
    "print(y)"
   ]
  },
  {
   "cell_type": "code",
   "execution_count": null,
   "id": "fee72726",
   "metadata": {},
   "outputs": [],
   "source": [
    "#splitting the data for training and testing with 20% of data for testing and 80% for training\n",
    "x_traindata,x_testdata,y_traindata,y_testdata=train_test_split(x,y,test_size=0.2,random_state=2)"
   ]
  },
  {
   "cell_type": "code",
   "execution_count": null,
   "id": "af5f3614",
   "metadata": {},
   "outputs": [],
   "source": [
    "#rows and columns in each of the trained and test data arrays\n",
    "print(x.shape,x_traindata.shape,x_testdata.shape)"
   ]
  },
  {
   "cell_type": "code",
   "execution_count": null,
   "id": "5c0eeb16",
   "metadata": {},
   "outputs": [],
   "source": [
    "#model creation\n",
    "model=LogisticRegression()"
   ]
  },
  {
   "cell_type": "code",
   "execution_count": null,
   "id": "c0b08a41",
   "metadata": {},
   "outputs": [],
   "source": [
    "#train the model by training data\n",
    "model.fit(x_traindata,y_traindata)"
   ]
  },
  {
   "cell_type": "code",
   "execution_count": null,
   "id": "1c7f4f32",
   "metadata": {},
   "outputs": [],
   "source": [
    "#model Evaluation\n",
    "x_traindata_prediction=model.predict(x_traindata)"
   ]
  },
  {
   "cell_type": "code",
   "execution_count": null,
   "id": "097c590e",
   "metadata": {},
   "outputs": [],
   "source": [
    "print(x_traindata_prediction)"
   ]
  },
  {
   "cell_type": "code",
   "execution_count": null,
   "id": "a4e6867b",
   "metadata": {},
   "outputs": [],
   "source": [
    "#comparing the values of the model with original data for train data\n",
    "trained_model_accuracy=accuracy_score(y_traindata,x_traindata_prediction)\n",
    "print(\"Acuuracy score of the model for train data:\",trained_model_accuracy)"
   ]
  },
  {
   "cell_type": "code",
   "execution_count": null,
   "id": "85dccd2b",
   "metadata": {},
   "outputs": [],
   "source": [
    "#accuracy for test data\n",
    "x_testdata_prediction=model.predict(x_testdata)\n",
    "print(x_testdata_prediction)\n"
   ]
  },
  {
   "cell_type": "code",
   "execution_count": null,
   "id": "ea3a71a3",
   "metadata": {},
   "outputs": [],
   "source": [
    "#comparing the values of the model with original data for test data\n",
    "test_model_accuracy=accuracy_score(y_testdata,x_testdata_prediction)\n",
    "print(\"Acuuracy score of the model for test data:\",test_model_accuracy)"
   ]
  }
 ],
 "metadata": {
  "kernelspec": {
   "display_name": "Python 3",
   "language": "python",
   "name": "python3"
  },
  "language_info": {
   "codemirror_mode": {
    "name": "ipython",
    "version": 3
   },
   "file_extension": ".py",
   "mimetype": "text/x-python",
   "name": "python",
   "nbconvert_exporter": "python",
   "pygments_lexer": "ipython3",
   "version": "3.13.3"
  }
 },
 "nbformat": 4,
 "nbformat_minor": 5
}
